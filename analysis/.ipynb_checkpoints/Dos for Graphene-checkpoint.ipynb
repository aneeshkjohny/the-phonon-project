{
 "cells": [
  {
   "cell_type": "code",
   "execution_count": 52,
   "metadata": {
    "collapsed": false
   },
   "outputs": [
    {
     "ename": "SyntaxError",
     "evalue": "invalid syntax (<ipython-input-52-91fc16266eac>, line 3)",
     "output_type": "error",
     "traceback": [
      "\u001b[0;36m  File \u001b[0;32m\"<ipython-input-52-91fc16266eac>\"\u001b[0;36m, line \u001b[0;32m3\u001b[0m\n\u001b[0;31m    form tools import nextpow2\u001b[0m\n\u001b[0m             ^\u001b[0m\n\u001b[0;31mSyntaxError\u001b[0m\u001b[0;31m:\u001b[0m invalid syntax\n"
     ]
    }
   ],
   "source": [
    "import numpy as np\n",
    "import matplotlib.pyplot as plt\n",
    "form tools import nextpow2\n",
    "ids = np.loadtxt(\"ids.dat\")\n",
    "\n",
    "tsteps = 5001\n",
    "nvel = 1000\n",
    "count = tsteps/nvel\n",
    "n = nextpow2(nvel)\n",
    "Dsum = 0\n",
    "natoms = 534\n",
    "Dt = 1\n",
    "for j in range(count):\n",
    "    Dx = 0;\n",
    "    Dy = 0;\n",
    "    Dz = 0;\n",
    "    for i in ids:\n",
    "        val = int(i)\n",
    "        fname = \"vel\"+str(val)+\".txt\"\n",
    "        data = np.loadtxt(fname)\n",
    "        print \"count = %s\", count\n",
    "        Vx = data[1 + nvel*(j):nvel*(j+1),1]\n",
    "        Vy = data[1 + nvel*(j):nvel*(j+1),2]\n",
    "        Vz = data[1 + nvel*(j):nvel*(j+1),3]\n",
    "        Dxsum = np.fft.fft(Vx,n)\n",
    "        Dx = Dx + np.abs(Dxsum/n)\n",
    "        Dysum = np.fft.fft(Vy,n)\n",
    "        Dy = Dy + np.abs(Dysum/n)\n",
    "        Dzsum = np.fft.fft(Vz,n)\n",
    "        Dz = Dz + np.abs(Dzsum/n)\n",
    "    D = (Dx+Dy+Dz)/3/natoms\n",
    "    Dsum = Dsum + D\n",
    "DOS = Dsum/count\n",
    "freq = (1/(n*Dt*1e-15))*((0:np.size(DOS)-1)/1e15)\n",
    "plt.plot(freq,DOS)\n",
    "plt.show()\n"
   ]
  },
  {
   "cell_type": "code",
   "execution_count": 22,
   "metadata": {
    "collapsed": false
   },
   "outputs": [
    {
     "name": "stderr",
     "output_type": "stream",
     "text": [
      "/home/sps/anaconda2/lib/python2.7/site-packages/numpy/lib/polynomial.py:595: RankWarning: Polyfit may be poorly conditioned\n",
      "  warnings.warn(msg, RankWarning)\n"
     ]
    },
    {
     "data": {
      "image/png": "[encoded data removed]",
      "text/plain": [
       "<matplotlib.figure.Figure at 0x7f27087bea90>"
      ]
     },
     "metadata": {},
     "output_type": "display_data"
    },
    {
     "data": {
      "text/plain": [
       "array([-0.30285714,  0.75714286])"
      ]
     },
     "execution_count": 22,
     "metadata": {},
     "output_type": "execute_result"
    }
   ],
   "source": [
    "import numpy as np\n",
    "import matplotlib.pyplot as plt \n",
    "from scipy.optimize import curve_fit\n",
    "x = np.array([0.0, 1.0, 2.0, 3.0,  4.0,  5.0])\n",
    "\n",
    "y = np.array([0.0, 0.8, 0.9, 0.1, -0.8, -1.0])\n",
    "z = np.polyfit(x, y, 1)\n",
    "z1 = np.polyfit(x, y, 30)\n",
    "p = np.poly1d(z)\n",
    "p30 = np.poly1d(z1)\n",
    "xp = np.linspace(0, 5, 100)\n",
    "plt.plot(x,y,'.',xp,p(xp),'-',xp,p30(xp),'--' )\n",
    "plt.show()\n",
    "z"
   ]
  },
  {
   "cell_type": "code",
   "execution_count": 50,
   "metadata": {
    "collapsed": false
   },
   "outputs": [
    {
     "data": {
      "text/plain": [
       "2"
      ]
     },
     "execution_count": 50,
     "metadata": {},
     "output_type": "execute_result"
    }
   ],
   "source": [
    "import numpy as np\n",
    "x = np.arange(2,5)\n",
    "x[0]"
   ]
  },
  {
   "cell_type": "code",
   "execution_count": null,
   "metadata": {
    "collapsed": true
   },
   "outputs": [],
   "source": []
  }
 ],
 "metadata": {
  "kernelspec": {
   "display_name": "Python 2",
   "language": "python",
   "name": "python2"
  },
  "language_info": {
   "codemirror_mode": {
    "name": "ipython",
    "version": 2
   },
   "file_extension": ".py",
   "mimetype": "text/x-python",
   "name": "python",
   "nbconvert_exporter": "python",
   "pygments_lexer": "ipython2",
   "version": "2.7.13"
  }
 },
 "nbformat": 4,
 "nbformat_minor": 2
}
